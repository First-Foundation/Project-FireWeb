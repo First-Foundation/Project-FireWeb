{
 "cells": [
  {
   "cell_type": "code",
   "execution_count": 1,
   "id": "6623064d-3df3-46ec-88d9-c233614e4453",
   "metadata": {},
   "outputs": [],
   "source": [
    "import os\n",
    "os.environ[\"CUDA_VISIBLE_DEVICES\"] = \"0\"\n",
    "os.environ['TRANSFORMERS_CACHE'] = \"c:\\\\huggingface\\\\.cache\\\\\"\n",
    "\n",
    "import requests\n",
    "import spacy\n",
    "from googlesearch import search\n",
    "from bs4 import BeautifulSoup\n",
    "from nltk.corpus import stopwords\n",
    "from nltk.cluster.util import cosine_distance\n",
    "import numpy as np\n",
    "import networkx as nx\n",
    "from transformers import pipeline"
   ]
  },
  {
   "cell_type": "code",
   "execution_count": 2,
   "id": "78643fc0-3f62-4f0b-95de-b245e4d1c677",
   "metadata": {},
   "outputs": [],
   "source": [
    "### Helper Functions\n",
    "\n",
    "# Open Url and parse with bs4\n",
    "def parse_url(url):\n",
    "    html = requests.get(url)\n",
    "    soup = BeautifulSoup(html.content, 'html.parser')\n",
    "    return soup\n",
    "\n",
    "# Extract all paragraph elements from bs4 parsed soup\n",
    "def extract_paragraphs(parsed_soup):\n",
    "    text = \"\"\n",
    "    for para in parsed_soup:\n",
    "        text += para.get_text()\n",
    "    return text\n",
    "\n",
    "# Extracts alls paragraph data from a url\n",
    "def extract_data_from_link(url):\n",
    "    soup = parse_url(url)\n",
    "    text = extract_paragraphs(soup('p'))\n",
    "    return text"
   ]
  },
  {
   "cell_type": "code",
   "execution_count": 3,
   "id": "c4b4065e-a9ad-43a5-a171-52d3d51c2b9b",
   "metadata": {
    "tags": []
   },
   "outputs": [],
   "source": [
    "# This is model 1\n",
    "\n",
    "def read_data(data):\n",
    "    article = data.split(\". \")\n",
    "    sentences = []\n",
    "    \n",
    "    for sentence in article:\n",
    "        sentences.append(sentence.replace(\"[^a-zA-Z]\", \" \").split(\" \"))\n",
    "    sentences.pop() \n",
    "    \n",
    "    return sentences\n",
    "\n",
    "def sentence_similarity(sent1, sent2, stopwords=None):\n",
    "    if stopwords is None:\n",
    "        stopwords = []\n",
    " \n",
    "    sent1 = [w.lower() for w in sent1]\n",
    "    sent2 = [w.lower() for w in sent2]\n",
    " \n",
    "    all_words = list(set(sent1 + sent2))\n",
    " \n",
    "    vector1 = [0] * len(all_words)\n",
    "    vector2 = [0] * len(all_words)\n",
    " \n",
    "    # build the vector for the first sentence\n",
    "    for w in sent1:\n",
    "        if w in stopwords:\n",
    "            continue\n",
    "        vector1[all_words.index(w)] += 1\n",
    " \n",
    "    # build the vector for the second sentence\n",
    "    for w in sent2:\n",
    "        if w in stopwords:\n",
    "            continue\n",
    "        vector2[all_words.index(w)] += 1\n",
    " \n",
    "    return 1 - cosine_distance(vector1, vector2)\n",
    " \n",
    "def build_similarity_matrix(sentences, stop_words):\n",
    "    # Create an empty similarity matrix\n",
    "    similarity_matrix = np.zeros((len(sentences), len(sentences)))\n",
    " \n",
    "    for idx1 in range(len(sentences)):\n",
    "        for idx2 in range(len(sentences)):\n",
    "            if idx1 == idx2: #ignore if both are same sentences\n",
    "                continue \n",
    "            similarity_matrix[idx1][idx2] = sentence_similarity(sentences[idx1], sentences[idx2], stop_words)\n",
    "\n",
    "    return similarity_matrix\n",
    "\n",
    "\n",
    "def generate_summary(word_data, top_n=5):\n",
    "    stop_words = stopwords.words('english')\n",
    "    summarize_text = []\n",
    "\n",
    "    # Step 1 - Read text anc split it\n",
    "    sentences =  read_data(word_data)\n",
    "    #print(sentences)\n",
    "\n",
    "    # Step 2 - Generate Similary Martix across sentences\n",
    "    sentence_similarity_martix = build_similarity_matrix(sentences, stop_words)\n",
    "\n",
    "    # Step 3 - Rank sentences in similarity martix\n",
    "    sentence_similarity_graph = nx.from_numpy_array(sentence_similarity_martix)\n",
    "    scores = nx.pagerank(sentence_similarity_graph)\n",
    "\n",
    "    # Step 4 - Sort the rank and pick top sentences\n",
    "    ranked_sentence = sorted(((scores[i],s) for i,s in enumerate(sentences)), reverse=True)    \n",
    "    #print(\"Indexes of top ranked_sentence order are \", ranked_sentence)    \n",
    "\n",
    "    for i in range(top_n):\n",
    "      summarize_text.append(\" \".join(ranked_sentence[i][1]))\n",
    "\n",
    "    # Step 5 - Offcourse, output the summarize texr\n",
    "    #print(\"Summarize Text:\\n\", \". \".join(summarize_text))\n",
    "    return summarize_text\n",
    "\n",
    "# let's begin\n",
    "#generate_summary(text_repo[1], 2)"
   ]
  },
  {
   "cell_type": "code",
   "execution_count": 4,
   "id": "2cda0bd9-7cdf-461c-bd36-61ab5fdbd7c4",
   "metadata": {},
   "outputs": [
    {
     "name": "stderr",
     "output_type": "stream",
     "text": [
      "No model was supplied, defaulted to sshleifer/distilbart-cnn-12-6 (https://huggingface.co/sshleifer/distilbart-cnn-12-6)\n",
      "[WinError 3] The system cannot find the path specified: 'e:\\\\'\n"
     ]
    },
    {
     "ename": "OSError",
     "evalue": "Can't load config for 'sshleifer/distilbart-cnn-12-6'. Make sure that:\n\n- 'sshleifer/distilbart-cnn-12-6' is a correct model identifier listed on 'https://huggingface.co/models'\n  (make sure 'sshleifer/distilbart-cnn-12-6' is not a path to a local directory with something else, in that case)\n\n- or 'sshleifer/distilbart-cnn-12-6' is the correct path to a directory containing a config.json file\n\n",
     "output_type": "error",
     "traceback": [
      "\u001b[1;31m---------------------------------------------------------------------------\u001b[0m",
      "\u001b[1;31mFileNotFoundError\u001b[0m                         Traceback (most recent call last)",
      "\u001b[1;32m~\\anaconda3\\envs\\osint\\lib\\site-packages\\transformers\\configuration_utils.py\u001b[0m in \u001b[0;36mget_config_dict\u001b[1;34m(cls, pretrained_model_name_or_path, **kwargs)\u001b[0m\n\u001b[0;32m    567\u001b[0m             \u001b[1;31m# Load from URL or cache if already cached\u001b[0m\u001b[1;33m\u001b[0m\u001b[1;33m\u001b[0m\u001b[0m\n\u001b[1;32m--> 568\u001b[1;33m             resolved_config_file = cached_path(\n\u001b[0m\u001b[0;32m    569\u001b[0m                 \u001b[0mconfig_file\u001b[0m\u001b[1;33m,\u001b[0m\u001b[1;33m\u001b[0m\u001b[1;33m\u001b[0m\u001b[0m\n",
      "\u001b[1;32m~\\anaconda3\\envs\\osint\\lib\\site-packages\\transformers\\file_utils.py\u001b[0m in \u001b[0;36mcached_path\u001b[1;34m(url_or_filename, cache_dir, force_download, proxies, resume_download, user_agent, extract_compressed_file, force_extract, use_auth_token, local_files_only)\u001b[0m\n\u001b[0;32m   1775\u001b[0m         \u001b[1;31m# URL, so get it from the cache (downloading if necessary)\u001b[0m\u001b[1;33m\u001b[0m\u001b[1;33m\u001b[0m\u001b[0m\n\u001b[1;32m-> 1776\u001b[1;33m         output_path = get_from_cache(\n\u001b[0m\u001b[0;32m   1777\u001b[0m             \u001b[0murl_or_filename\u001b[0m\u001b[1;33m,\u001b[0m\u001b[1;33m\u001b[0m\u001b[1;33m\u001b[0m\u001b[0m\n",
      "\u001b[1;32m~\\anaconda3\\envs\\osint\\lib\\site-packages\\transformers\\file_utils.py\u001b[0m in \u001b[0;36mget_from_cache\u001b[1;34m(url, cache_dir, force_download, proxies, etag_timeout, resume_download, user_agent, use_auth_token, local_files_only)\u001b[0m\n\u001b[0;32m   1931\u001b[0m \u001b[1;33m\u001b[0m\u001b[0m\n\u001b[1;32m-> 1932\u001b[1;33m     \u001b[0mos\u001b[0m\u001b[1;33m.\u001b[0m\u001b[0mmakedirs\u001b[0m\u001b[1;33m(\u001b[0m\u001b[0mcache_dir\u001b[0m\u001b[1;33m,\u001b[0m \u001b[0mexist_ok\u001b[0m\u001b[1;33m=\u001b[0m\u001b[1;32mTrue\u001b[0m\u001b[1;33m)\u001b[0m\u001b[1;33m\u001b[0m\u001b[1;33m\u001b[0m\u001b[0m\n\u001b[0m\u001b[0;32m   1933\u001b[0m \u001b[1;33m\u001b[0m\u001b[0m\n",
      "\u001b[1;32m~\\anaconda3\\envs\\osint\\lib\\os.py\u001b[0m in \u001b[0;36mmakedirs\u001b[1;34m(name, mode, exist_ok)\u001b[0m\n\u001b[0;32m    214\u001b[0m         \u001b[1;32mtry\u001b[0m\u001b[1;33m:\u001b[0m\u001b[1;33m\u001b[0m\u001b[1;33m\u001b[0m\u001b[0m\n\u001b[1;32m--> 215\u001b[1;33m             \u001b[0mmakedirs\u001b[0m\u001b[1;33m(\u001b[0m\u001b[0mhead\u001b[0m\u001b[1;33m,\u001b[0m \u001b[0mexist_ok\u001b[0m\u001b[1;33m=\u001b[0m\u001b[0mexist_ok\u001b[0m\u001b[1;33m)\u001b[0m\u001b[1;33m\u001b[0m\u001b[1;33m\u001b[0m\u001b[0m\n\u001b[0m\u001b[0;32m    216\u001b[0m         \u001b[1;32mexcept\u001b[0m \u001b[0mFileExistsError\u001b[0m\u001b[1;33m:\u001b[0m\u001b[1;33m\u001b[0m\u001b[1;33m\u001b[0m\u001b[0m\n",
      "\u001b[1;32m~\\anaconda3\\envs\\osint\\lib\\os.py\u001b[0m in \u001b[0;36mmakedirs\u001b[1;34m(name, mode, exist_ok)\u001b[0m\n\u001b[0;32m    214\u001b[0m         \u001b[1;32mtry\u001b[0m\u001b[1;33m:\u001b[0m\u001b[1;33m\u001b[0m\u001b[1;33m\u001b[0m\u001b[0m\n\u001b[1;32m--> 215\u001b[1;33m             \u001b[0mmakedirs\u001b[0m\u001b[1;33m(\u001b[0m\u001b[0mhead\u001b[0m\u001b[1;33m,\u001b[0m \u001b[0mexist_ok\u001b[0m\u001b[1;33m=\u001b[0m\u001b[0mexist_ok\u001b[0m\u001b[1;33m)\u001b[0m\u001b[1;33m\u001b[0m\u001b[1;33m\u001b[0m\u001b[0m\n\u001b[0m\u001b[0;32m    216\u001b[0m         \u001b[1;32mexcept\u001b[0m \u001b[0mFileExistsError\u001b[0m\u001b[1;33m:\u001b[0m\u001b[1;33m\u001b[0m\u001b[1;33m\u001b[0m\u001b[0m\n",
      "\u001b[1;32m~\\anaconda3\\envs\\osint\\lib\\os.py\u001b[0m in \u001b[0;36mmakedirs\u001b[1;34m(name, mode, exist_ok)\u001b[0m\n\u001b[0;32m    224\u001b[0m     \u001b[1;32mtry\u001b[0m\u001b[1;33m:\u001b[0m\u001b[1;33m\u001b[0m\u001b[1;33m\u001b[0m\u001b[0m\n\u001b[1;32m--> 225\u001b[1;33m         \u001b[0mmkdir\u001b[0m\u001b[1;33m(\u001b[0m\u001b[0mname\u001b[0m\u001b[1;33m,\u001b[0m \u001b[0mmode\u001b[0m\u001b[1;33m)\u001b[0m\u001b[1;33m\u001b[0m\u001b[1;33m\u001b[0m\u001b[0m\n\u001b[0m\u001b[0;32m    226\u001b[0m     \u001b[1;32mexcept\u001b[0m \u001b[0mOSError\u001b[0m\u001b[1;33m:\u001b[0m\u001b[1;33m\u001b[0m\u001b[1;33m\u001b[0m\u001b[0m\n",
      "\u001b[1;31mFileNotFoundError\u001b[0m: [WinError 3] The system cannot find the path specified: 'e:\\\\'",
      "\nDuring handling of the above exception, another exception occurred:\n",
      "\u001b[1;31mOSError\u001b[0m                                   Traceback (most recent call last)",
      "\u001b[1;32m~\\AppData\\Local\\Temp/ipykernel_8544/3306528962.py\u001b[0m in \u001b[0;36m<module>\u001b[1;34m\u001b[0m\n\u001b[0;32m      3\u001b[0m \u001b[1;33m\u001b[0m\u001b[0m\n\u001b[0;32m      4\u001b[0m \u001b[1;31m## Setting to use the bart-large-cnn model for summarization\u001b[0m\u001b[1;33m\u001b[0m\u001b[1;33m\u001b[0m\u001b[0m\n\u001b[1;32m----> 5\u001b[1;33m \u001b[0msummarizer\u001b[0m \u001b[1;33m=\u001b[0m \u001b[0mpipeline\u001b[0m\u001b[1;33m(\u001b[0m\u001b[1;34m\"summarization\"\u001b[0m\u001b[1;33m)\u001b[0m\u001b[1;33m\u001b[0m\u001b[1;33m\u001b[0m\u001b[0m\n\u001b[0m\u001b[0;32m      6\u001b[0m \u001b[1;31m#summarizer = pipeline(\"summarization\", model=\"t5-3b\", tokenizer=\"t5-3b\")\u001b[0m\u001b[1;33m\u001b[0m\u001b[1;33m\u001b[0m\u001b[0m\n",
      "\u001b[1;32m~\\anaconda3\\envs\\osint\\lib\\site-packages\\transformers\\pipelines\\__init__.py\u001b[0m in \u001b[0;36mpipeline\u001b[1;34m(task, model, config, tokenizer, feature_extractor, framework, revision, use_fast, use_auth_token, model_kwargs, pipeline_class, **kwargs)\u001b[0m\n\u001b[0;32m    533\u001b[0m         \u001b[0mconfig\u001b[0m \u001b[1;33m=\u001b[0m \u001b[0mAutoConfig\u001b[0m\u001b[1;33m.\u001b[0m\u001b[0mfrom_pretrained\u001b[0m\u001b[1;33m(\u001b[0m\u001b[0mconfig\u001b[0m\u001b[1;33m,\u001b[0m \u001b[0mrevision\u001b[0m\u001b[1;33m=\u001b[0m\u001b[0mrevision\u001b[0m\u001b[1;33m,\u001b[0m \u001b[0m_from_pipeline\u001b[0m\u001b[1;33m=\u001b[0m\u001b[0mtask\u001b[0m\u001b[1;33m,\u001b[0m \u001b[1;33m**\u001b[0m\u001b[0mmodel_kwargs\u001b[0m\u001b[1;33m)\u001b[0m\u001b[1;33m\u001b[0m\u001b[1;33m\u001b[0m\u001b[0m\n\u001b[0;32m    534\u001b[0m     \u001b[1;32melif\u001b[0m \u001b[0mconfig\u001b[0m \u001b[1;32mis\u001b[0m \u001b[1;32mNone\u001b[0m \u001b[1;32mand\u001b[0m \u001b[0misinstance\u001b[0m\u001b[1;33m(\u001b[0m\u001b[0mmodel\u001b[0m\u001b[1;33m,\u001b[0m \u001b[0mstr\u001b[0m\u001b[1;33m)\u001b[0m\u001b[1;33m:\u001b[0m\u001b[1;33m\u001b[0m\u001b[1;33m\u001b[0m\u001b[0m\n\u001b[1;32m--> 535\u001b[1;33m         \u001b[0mconfig\u001b[0m \u001b[1;33m=\u001b[0m \u001b[0mAutoConfig\u001b[0m\u001b[1;33m.\u001b[0m\u001b[0mfrom_pretrained\u001b[0m\u001b[1;33m(\u001b[0m\u001b[0mmodel\u001b[0m\u001b[1;33m,\u001b[0m \u001b[0mrevision\u001b[0m\u001b[1;33m=\u001b[0m\u001b[0mrevision\u001b[0m\u001b[1;33m,\u001b[0m \u001b[0m_from_pipeline\u001b[0m\u001b[1;33m=\u001b[0m\u001b[0mtask\u001b[0m\u001b[1;33m,\u001b[0m \u001b[1;33m**\u001b[0m\u001b[0mmodel_kwargs\u001b[0m\u001b[1;33m)\u001b[0m\u001b[1;33m\u001b[0m\u001b[1;33m\u001b[0m\u001b[0m\n\u001b[0m\u001b[0;32m    536\u001b[0m \u001b[1;33m\u001b[0m\u001b[0m\n\u001b[0;32m    537\u001b[0m     \u001b[0mmodel_name\u001b[0m \u001b[1;33m=\u001b[0m \u001b[0mmodel\u001b[0m \u001b[1;32mif\u001b[0m \u001b[0misinstance\u001b[0m\u001b[1;33m(\u001b[0m\u001b[0mmodel\u001b[0m\u001b[1;33m,\u001b[0m \u001b[0mstr\u001b[0m\u001b[1;33m)\u001b[0m \u001b[1;32melse\u001b[0m \u001b[1;32mNone\u001b[0m\u001b[1;33m\u001b[0m\u001b[1;33m\u001b[0m\u001b[0m\n",
      "\u001b[1;32m~\\anaconda3\\envs\\osint\\lib\\site-packages\\transformers\\models\\auto\\configuration_auto.py\u001b[0m in \u001b[0;36mfrom_pretrained\u001b[1;34m(cls, pretrained_model_name_or_path, **kwargs)\u001b[0m\n\u001b[0;32m    580\u001b[0m         \u001b[0mkwargs\u001b[0m\u001b[1;33m[\u001b[0m\u001b[1;34m\"name_or_path\"\u001b[0m\u001b[1;33m]\u001b[0m \u001b[1;33m=\u001b[0m \u001b[0mpretrained_model_name_or_path\u001b[0m\u001b[1;33m\u001b[0m\u001b[1;33m\u001b[0m\u001b[0m\n\u001b[0;32m    581\u001b[0m         \u001b[0mtrust_remote_code\u001b[0m \u001b[1;33m=\u001b[0m \u001b[0mkwargs\u001b[0m\u001b[1;33m.\u001b[0m\u001b[0mpop\u001b[0m\u001b[1;33m(\u001b[0m\u001b[1;34m\"trust_remote_code\"\u001b[0m\u001b[1;33m,\u001b[0m \u001b[1;32mFalse\u001b[0m\u001b[1;33m)\u001b[0m\u001b[1;33m\u001b[0m\u001b[1;33m\u001b[0m\u001b[0m\n\u001b[1;32m--> 582\u001b[1;33m         \u001b[0mconfig_dict\u001b[0m\u001b[1;33m,\u001b[0m \u001b[0m_\u001b[0m \u001b[1;33m=\u001b[0m \u001b[0mPretrainedConfig\u001b[0m\u001b[1;33m.\u001b[0m\u001b[0mget_config_dict\u001b[0m\u001b[1;33m(\u001b[0m\u001b[0mpretrained_model_name_or_path\u001b[0m\u001b[1;33m,\u001b[0m \u001b[1;33m**\u001b[0m\u001b[0mkwargs\u001b[0m\u001b[1;33m)\u001b[0m\u001b[1;33m\u001b[0m\u001b[1;33m\u001b[0m\u001b[0m\n\u001b[0m\u001b[0;32m    583\u001b[0m         \u001b[1;32mif\u001b[0m \u001b[1;34m\"auto_map\"\u001b[0m \u001b[1;32min\u001b[0m \u001b[0mconfig_dict\u001b[0m \u001b[1;32mand\u001b[0m \u001b[1;34m\"AutoConfig\"\u001b[0m \u001b[1;32min\u001b[0m \u001b[0mconfig_dict\u001b[0m\u001b[1;33m[\u001b[0m\u001b[1;34m\"auto_map\"\u001b[0m\u001b[1;33m]\u001b[0m\u001b[1;33m:\u001b[0m\u001b[1;33m\u001b[0m\u001b[1;33m\u001b[0m\u001b[0m\n\u001b[0;32m    584\u001b[0m             \u001b[1;32mif\u001b[0m \u001b[1;32mnot\u001b[0m \u001b[0mtrust_remote_code\u001b[0m\u001b[1;33m:\u001b[0m\u001b[1;33m\u001b[0m\u001b[1;33m\u001b[0m\u001b[0m\n",
      "\u001b[1;32m~\\anaconda3\\envs\\osint\\lib\\site-packages\\transformers\\configuration_utils.py\u001b[0m in \u001b[0;36mget_config_dict\u001b[1;34m(cls, pretrained_model_name_or_path, **kwargs)\u001b[0m\n\u001b[0;32m    591\u001b[0m                 \u001b[0mmsg\u001b[0m \u001b[1;33m+=\u001b[0m \u001b[1;34mf\"- or '{revision}' is a valid git identifier (branch name, a tag name, or a commit id) that exists for this model name as listed on its model page on 'https://huggingface.co/models'\\n\\n\"\u001b[0m\u001b[1;33m\u001b[0m\u001b[1;33m\u001b[0m\u001b[0m\n\u001b[0;32m    592\u001b[0m \u001b[1;33m\u001b[0m\u001b[0m\n\u001b[1;32m--> 593\u001b[1;33m             \u001b[1;32mraise\u001b[0m \u001b[0mEnvironmentError\u001b[0m\u001b[1;33m(\u001b[0m\u001b[0mmsg\u001b[0m\u001b[1;33m)\u001b[0m\u001b[1;33m\u001b[0m\u001b[1;33m\u001b[0m\u001b[0m\n\u001b[0m\u001b[0;32m    594\u001b[0m \u001b[1;33m\u001b[0m\u001b[0m\n\u001b[0;32m    595\u001b[0m         \u001b[1;32mexcept\u001b[0m \u001b[1;33m(\u001b[0m\u001b[0mjson\u001b[0m\u001b[1;33m.\u001b[0m\u001b[0mJSONDecodeError\u001b[0m\u001b[1;33m,\u001b[0m \u001b[0mUnicodeDecodeError\u001b[0m\u001b[1;33m)\u001b[0m\u001b[1;33m:\u001b[0m\u001b[1;33m\u001b[0m\u001b[1;33m\u001b[0m\u001b[0m\n",
      "\u001b[1;31mOSError\u001b[0m: Can't load config for 'sshleifer/distilbart-cnn-12-6'. Make sure that:\n\n- 'sshleifer/distilbart-cnn-12-6' is a correct model identifier listed on 'https://huggingface.co/models'\n  (make sure 'sshleifer/distilbart-cnn-12-6' is not a path to a local directory with something else, in that case)\n\n- or 'sshleifer/distilbart-cnn-12-6' is the correct path to a directory containing a config.json file\n\n"
     ]
    }
   ],
   "source": [
    "## Setting to use the 0th GPU\n",
    "os.environ[\"CUDA_VISIBLE_DEVICES\"] = \"\"\n",
    "\n",
    "## Setting to use the bart-large-cnn model for summarization\n",
    "summarizer = pipeline(\"summarization\")\n",
    "#summarizer = pipeline(\"summarization\", model=\"t5-3b\", tokenizer=\"t5-3b\")"
   ]
  },
  {
   "cell_type": "code",
   "execution_count": null,
   "id": "a7f1d4a1-350f-44d2-816d-d918b2a4d6d5",
   "metadata": {},
   "outputs": [
    {
     "name": "stdout",
     "output_type": "stream",
     "text": [
      "['https://finance.yahoo.com/quote/RIG/news/', 'https://finance.yahoo.com/quote/RIG/community/', 'https://www.marketbeat.com/stocks/NYSE/RIG/news/', 'https://www.marketbeat.com/stocks/NYSE/RIG/', 'https://stockinvest.us/stock/RIG', 'https://www.marketwatch.com/investing/stock/rig/analystestimates', 'https://www.marketwatch.com/investing/stock/rig/charts', 'https://www.nasdaq.com/market-activity/stocks/rig/insider-activity', 'https://investorshub.advfn.com/Transocean-Ltd-RIG-6633/', 'https://www.barchart.com/stocks/quotes/RIG/technical-analysis']\n"
     ]
    }
   ],
   "source": [
    "# Search Query\n",
    "query = \"$RIG stock news\"\n",
    "\n",
    "# Save query results\n",
    "results = []\n",
    "for j in search(query, tld=\"com\", num=10, stop=10, pause=1, tbs=\"qdr:w\"):\n",
    "    results.append(j)\n",
    "print(results)"
   ]
  },
  {
   "cell_type": "code",
   "execution_count": null,
   "id": "b50b81e9-d587-4a2f-b248-5e82cd1fd7c8",
   "metadata": {
    "tags": []
   },
   "outputs": [],
   "source": [
    "text_repo = []\n",
    "one_text = \"\"\"\"\"\"\n",
    "for url in results:\n",
    "    paragraph_data = extract_data_from_link(url)\n",
    "    text_repo.append(paragraph_data)\n",
    "    one_text += paragraph_data\n",
    "#print(one_text)"
   ]
  },
  {
   "cell_type": "code",
   "execution_count": null,
   "id": "a5f37031-3789-484f-8ed8-a10c8a35468e",
   "metadata": {
    "tags": []
   },
   "outputs": [],
   "source": [
    "extractive_summary = generate_summary(one_text, 5)\n",
    "print(extractive_summary)"
   ]
  },
  {
   "cell_type": "code",
   "execution_count": null,
   "id": "3309d50e-e3cc-494b-9d0d-fd2ac8061a70",
   "metadata": {},
   "outputs": [],
   "source": [
    "summary_text = summarizer(extractive_summary, max_length=1000, min_length=50)[0]['summary_text']\n",
    "#summary_text = summarizer(extractive_summary, max_length=1000, min_length=5, truncation=True)[0]['summary_text']\n",
    "print(summary_text)"
   ]
  },
  {
   "cell_type": "markdown",
   "id": "67eac922-9bfe-4f69-9b9b-a0f98daf12ac",
   "metadata": {},
   "source": [
    "query:  \"Ukraine Russia United States\"\n",
    "\n",
    "Result : \"President Putin says Nato is making \"dangerous attempts to take over Ukrainian territory\" President Biden did not make any guarantees to limit Nato expansion, the Kremlin says . Ukraine's foreign minister says talks enabled \"deterrence and de-escalation\"\n",
    "\n",
    "Query: covid omicron\n",
    "\n",
    "Result\n",
    "It is not yet clear whether infection with Omicron causes more severe disease compared to infections with other variants, including Delta . The number of people testing positive has risen in areas of South Africa affected by this variant .\n",
    "\n",
    "Query: \"Latest cyber crime trends\"\n",
    "\n",
    "Result:\n",
    "The accessibility of malware for malicious parties is a growing concern . We may see more disease or health-related phishing or malware attacks in future using scaremongering tactics .\n",
    "\n",
    "Query: \"APT 28 Russia\"\n",
    "\n",
    "Result:\n",
    "Fancy Bear is thought to be responsible for cyber attacks on the German parliament, the Norwegian parliament, French television station TV5Monde and the White House . The group promotes the political interests of the Russian government, and is known for hacking Democratic National Committee emails .\n",
    "\n",
    "Query: \"APT 28 TTPs\"\n",
    "\n",
    "Result\n",
    "Fancy Bear is thought to be responsible for cyber attacks on the German parliament, the Norwegian parliament, French television station TV5Monde and the White House . The group promotes the political interests of the Russian government, and is known for hacking Democratic National Committee emails .\n",
    "\n",
    "Query: \"amazon warehouse\"\n",
    "\n",
    "Result: First responders were called to the warehouse after reports of people trapped inside . Up to 100 people were believed to be working the night shift at the time of the collapse . Amazon is assessing the damage at its facility and said the safety and well-being of its employees and partners is its top priority .\n",
    "\n",
    "query = \"news in san antonio\"\n",
    "\n",
    "Result: Nearly 100 Texas A&M San Antonio students have been living in hotel rooms this semester because of a shortage of dorms on campus . A psychiatrist offers tips to maintain the mental health of parents who have missing children . City officials say they can collaborate with CPS Energy to help each other better protect against cyberattacks .\n",
    "\n",
    "query: \"log4j2 vulnerability\"\n",
    "\n",
    "Result: CERT New Zealand warns that it's already being exploited in the wild . Java logging library, Apache Log4j between versions 2.0 and 2.14.1 are all affected .\n",
    "\n",
    "query: \"log4j2 exploit location\"\n",
    "\n",
    "Result: Log4j2 is an open-source, Java-based logging framework commonly incorporated into Apache web servers . According to public sources, Chen Zhaojun of Alibaba officially reported a Log4J2 remote code execution (RCE) vulnerability to Apache on Nov. 1 .\n",
    " \n",
    "query: \"how to patch log4j2\"\n",
    "\n",
    "Result: The Apache Software Foundation has released an emergency security update to fix a zero-day vulnerability in Log4j . The vulnerability, also nicknamed Log4Shell, can be exploited by forcing Java-based apps and servers to log a specific string into their internal systems . This string can force the vulnerable system to download and run a malicious script from an attacker-controlled domain .\n",
    "\n",
    "query: \"tornados US\"\n",
    "\n",
    "Result:  Five states, Arkansas, Illinois, Kentucky, Missouri and Tennessee were hit by tornadoes on Friday night . The Edwardsville Police Department in Illinois said the storms had resulted in “catastrophic damage to a significant portion” of an Amazon warehouse ."
   ]
  },
  {
   "cell_type": "code",
   "execution_count": null,
   "id": "5fb52c6f-7fa3-4292-870c-727f284dbd12",
   "metadata": {},
   "outputs": [
    {
     "name": "stderr",
     "output_type": "stream",
     "text": [
      "No model was supplied, defaulted to distilbert-base-cased-distilled-squad (https://huggingface.co/distilbert-base-cased-distilled-squad)\n"
     ]
    }
   ],
   "source": [
    "question_answerer = pipeline('question-answering')\n",
    "question = \"What countries are sending troops to Ukraine?\"\n",
    "\n",
    "answer = question_answerer({\n",
    "    'question':question,\n",
    "    'context': one_text\n",
    "})"
   ]
  },
  {
   "cell_type": "code",
   "execution_count": null,
   "id": "9d63ee7c-20dc-43f5-9a21-da5894404145",
   "metadata": {},
   "outputs": [
    {
     "name": "stdout",
     "output_type": "stream",
     "text": [
      "Ukraine, Poland, and Lithuania\n"
     ]
    }
   ],
   "source": [
    "print(answer['answer'])"
   ]
  },
  {
   "cell_type": "code",
   "execution_count": null,
   "id": "661d1bcc-abb2-48c6-a982-2e46d972eca8",
   "metadata": {},
   "outputs": [
    {
     "data": {
      "text/plain": [
       "{'score': 0.9599509239196777,\n",
       " 'start': 55443,\n",
       " 'end': 55473,\n",
       " 'answer': 'Ukraine, Poland, and Lithuania'}"
      ]
     },
     "execution_count": 195,
     "metadata": {},
     "output_type": "execute_result"
    }
   ],
   "source": [
    "answer"
   ]
  },
  {
   "cell_type": "code",
   "execution_count": null,
   "id": "71e01b56-cc13-4cb7-9bfc-76a5466d9ccf",
   "metadata": {},
   "outputs": [],
   "source": []
  }
 ],
 "metadata": {
  "kernelspec": {
   "display_name": "Python 3 (ipykernel)",
   "language": "python",
   "name": "python3"
  },
  "language_info": {
   "codemirror_mode": {
    "name": "ipython",
    "version": 3
   },
   "file_extension": ".py",
   "mimetype": "text/x-python",
   "name": "python",
   "nbconvert_exporter": "python",
   "pygments_lexer": "ipython3",
   "version": "3.9.7"
  }
 },
 "nbformat": 4,
 "nbformat_minor": 5
}
